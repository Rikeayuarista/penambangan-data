{
 "cells": [
  {
   "cell_type": "code",
   "execution_count": 4,
   "metadata": {},
   "outputs": [
    {
     "data": {
      "text/html": [
       "<style  type=\"text/css\" >\n",
       "</style><table id=\"T_2c176ede_cfde_11e9_bb6f_0c9d923da13e\" ><thead>    <tr>        <th class=\"col_heading level0 col0\" >stats</th>        <th class=\"col_heading level0 col1\" >X1</th>        <th class=\"col_heading level0 col2\" >X2</th>        <th class=\"col_heading level0 col3\" >X3</th>        <th class=\"col_heading level0 col4\" >X4</th>    </tr></thead><tbody>\n",
       "                <tr>\n",
       "                                <td id=\"T_2c176ede_cfde_11e9_bb6f_0c9d923da13erow0_col0\" class=\"data row0 col0\" >min</td>\n",
       "                        <td id=\"T_2c176ede_cfde_11e9_bb6f_0c9d923da13erow0_col1\" class=\"data row0 col1\" >40</td>\n",
       "                        <td id=\"T_2c176ede_cfde_11e9_bb6f_0c9d923da13erow0_col2\" class=\"data row0 col2\" >50</td>\n",
       "                        <td id=\"T_2c176ede_cfde_11e9_bb6f_0c9d923da13erow0_col3\" class=\"data row0 col3\" >60</td>\n",
       "                        <td id=\"T_2c176ede_cfde_11e9_bb6f_0c9d923da13erow0_col4\" class=\"data row0 col4\" >70</td>\n",
       "            </tr>\n",
       "            <tr>\n",
       "                                <td id=\"T_2c176ede_cfde_11e9_bb6f_0c9d923da13erow1_col0\" class=\"data row1 col0\" >max</td>\n",
       "                        <td id=\"T_2c176ede_cfde_11e9_bb6f_0c9d923da13erow1_col1\" class=\"data row1 col1\" >90</td>\n",
       "                        <td id=\"T_2c176ede_cfde_11e9_bb6f_0c9d923da13erow1_col2\" class=\"data row1 col2\" >90</td>\n",
       "                        <td id=\"T_2c176ede_cfde_11e9_bb6f_0c9d923da13erow1_col3\" class=\"data row1 col3\" >90</td>\n",
       "                        <td id=\"T_2c176ede_cfde_11e9_bb6f_0c9d923da13erow1_col4\" class=\"data row1 col4\" >90</td>\n",
       "            </tr>\n",
       "            <tr>\n",
       "                                <td id=\"T_2c176ede_cfde_11e9_bb6f_0c9d923da13erow2_col0\" class=\"data row2 col0\" >Mean</td>\n",
       "                        <td id=\"T_2c176ede_cfde_11e9_bb6f_0c9d923da13erow2_col1\" class=\"data row2 col1\" >65.77</td>\n",
       "                        <td id=\"T_2c176ede_cfde_11e9_bb6f_0c9d923da13erow2_col2\" class=\"data row2 col2\" >70.08</td>\n",
       "                        <td id=\"T_2c176ede_cfde_11e9_bb6f_0c9d923da13erow2_col3\" class=\"data row2 col3\" >73.05</td>\n",
       "                        <td id=\"T_2c176ede_cfde_11e9_bb6f_0c9d923da13erow2_col4\" class=\"data row2 col4\" >80.27</td>\n",
       "            </tr>\n",
       "            <tr>\n",
       "                                <td id=\"T_2c176ede_cfde_11e9_bb6f_0c9d923da13erow3_col0\" class=\"data row3 col0\" >Standart Deviasi</td>\n",
       "                        <td id=\"T_2c176ede_cfde_11e9_bb6f_0c9d923da13erow3_col1\" class=\"data row3 col1\" >15.17</td>\n",
       "                        <td id=\"T_2c176ede_cfde_11e9_bb6f_0c9d923da13erow3_col2\" class=\"data row3 col2\" >12.03</td>\n",
       "                        <td id=\"T_2c176ede_cfde_11e9_bb6f_0c9d923da13erow3_col3\" class=\"data row3 col3\" >8.59</td>\n",
       "                        <td id=\"T_2c176ede_cfde_11e9_bb6f_0c9d923da13erow3_col4\" class=\"data row3 col4\" >6.38</td>\n",
       "            </tr>\n",
       "            <tr>\n",
       "                                <td id=\"T_2c176ede_cfde_11e9_bb6f_0c9d923da13erow4_col0\" class=\"data row4 col0\" >Variasi</td>\n",
       "                        <td id=\"T_2c176ede_cfde_11e9_bb6f_0c9d923da13erow4_col1\" class=\"data row4 col1\" >230.06</td>\n",
       "                        <td id=\"T_2c176ede_cfde_11e9_bb6f_0c9d923da13erow4_col2\" class=\"data row4 col2\" >144.78</td>\n",
       "                        <td id=\"T_2c176ede_cfde_11e9_bb6f_0c9d923da13erow4_col3\" class=\"data row4 col3\" >73.77</td>\n",
       "                        <td id=\"T_2c176ede_cfde_11e9_bb6f_0c9d923da13erow4_col4\" class=\"data row4 col4\" >40.64</td>\n",
       "            </tr>\n",
       "            <tr>\n",
       "                                <td id=\"T_2c176ede_cfde_11e9_bb6f_0c9d923da13erow5_col0\" class=\"data row5 col0\" >Skewnes</td>\n",
       "                        <td id=\"T_2c176ede_cfde_11e9_bb6f_0c9d923da13erow5_col1\" class=\"data row5 col1\" >-0.24</td>\n",
       "                        <td id=\"T_2c176ede_cfde_11e9_bb6f_0c9d923da13erow5_col2\" class=\"data row5 col2\" >0.05</td>\n",
       "                        <td id=\"T_2c176ede_cfde_11e9_bb6f_0c9d923da13erow5_col3\" class=\"data row5 col3\" >0.37</td>\n",
       "                        <td id=\"T_2c176ede_cfde_11e9_bb6f_0c9d923da13erow5_col4\" class=\"data row5 col4\" >-0.1</td>\n",
       "            </tr>\n",
       "            <tr>\n",
       "                                <td id=\"T_2c176ede_cfde_11e9_bb6f_0c9d923da13erow6_col0\" class=\"data row6 col0\" >Quartile 1</td>\n",
       "                        <td id=\"T_2c176ede_cfde_11e9_bb6f_0c9d923da13erow6_col1\" class=\"data row6 col1\" >52.75</td>\n",
       "                        <td id=\"T_2c176ede_cfde_11e9_bb6f_0c9d923da13erow6_col2\" class=\"data row6 col2\" >60.75</td>\n",
       "                        <td id=\"T_2c176ede_cfde_11e9_bb6f_0c9d923da13erow6_col3\" class=\"data row6 col3\" >66</td>\n",
       "                        <td id=\"T_2c176ede_cfde_11e9_bb6f_0c9d923da13erow6_col4\" class=\"data row6 col4\" >75</td>\n",
       "            </tr>\n",
       "            <tr>\n",
       "                                <td id=\"T_2c176ede_cfde_11e9_bb6f_0c9d923da13erow7_col0\" class=\"data row7 col0\" >Quartile 2</td>\n",
       "                        <td id=\"T_2c176ede_cfde_11e9_bb6f_0c9d923da13erow7_col1\" class=\"data row7 col1\" >69.5</td>\n",
       "                        <td id=\"T_2c176ede_cfde_11e9_bb6f_0c9d923da13erow7_col2\" class=\"data row7 col2\" >69</td>\n",
       "                        <td id=\"T_2c176ede_cfde_11e9_bb6f_0c9d923da13erow7_col3\" class=\"data row7 col3\" >71</td>\n",
       "                        <td id=\"T_2c176ede_cfde_11e9_bb6f_0c9d923da13erow7_col4\" class=\"data row7 col4\" >80</td>\n",
       "            </tr>\n",
       "            <tr>\n",
       "                                <td id=\"T_2c176ede_cfde_11e9_bb6f_0c9d923da13erow8_col0\" class=\"data row8 col0\" >Quartile 3</td>\n",
       "                        <td id=\"T_2c176ede_cfde_11e9_bb6f_0c9d923da13erow8_col1\" class=\"data row8 col1\" >76.25</td>\n",
       "                        <td id=\"T_2c176ede_cfde_11e9_bb6f_0c9d923da13erow8_col2\" class=\"data row8 col2\" >81</td>\n",
       "                        <td id=\"T_2c176ede_cfde_11e9_bb6f_0c9d923da13erow8_col3\" class=\"data row8 col3\" >79</td>\n",
       "                        <td id=\"T_2c176ede_cfde_11e9_bb6f_0c9d923da13erow8_col4\" class=\"data row8 col4\" >86</td>\n",
       "            </tr>\n",
       "            <tr>\n",
       "                                <td id=\"T_2c176ede_cfde_11e9_bb6f_0c9d923da13erow9_col0\" class=\"data row9 col0\" >Median</td>\n",
       "                        <td id=\"T_2c176ede_cfde_11e9_bb6f_0c9d923da13erow9_col1\" class=\"data row9 col1\" >65.77</td>\n",
       "                        <td id=\"T_2c176ede_cfde_11e9_bb6f_0c9d923da13erow9_col2\" class=\"data row9 col2\" >70.08</td>\n",
       "                        <td id=\"T_2c176ede_cfde_11e9_bb6f_0c9d923da13erow9_col3\" class=\"data row9 col3\" >73.05</td>\n",
       "                        <td id=\"T_2c176ede_cfde_11e9_bb6f_0c9d923da13erow9_col4\" class=\"data row9 col4\" >80.27</td>\n",
       "            </tr>\n",
       "            <tr>\n",
       "                                <td id=\"T_2c176ede_cfde_11e9_bb6f_0c9d923da13erow10_col0\" class=\"data row10 col0\" >Modus</td>\n",
       "                        <td id=\"T_2c176ede_cfde_11e9_bb6f_0c9d923da13erow10_col1\" class=\"data row10 col1\" >40</td>\n",
       "                        <td id=\"T_2c176ede_cfde_11e9_bb6f_0c9d923da13erow10_col2\" class=\"data row10 col2\" >55</td>\n",
       "                        <td id=\"T_2c176ede_cfde_11e9_bb6f_0c9d923da13erow10_col3\" class=\"data row10 col3\" >71</td>\n",
       "                        <td id=\"T_2c176ede_cfde_11e9_bb6f_0c9d923da13erow10_col4\" class=\"data row10 col4\" >70</td>\n",
       "            </tr>\n",
       "    </tbody></table>"
      ],
      "text/plain": [
       "<pandas.io.formats.style.Styler at 0x1f898f59cc0>"
      ]
     },
     "execution_count": 4,
     "metadata": {},
     "output_type": "execute_result"
    }
   ],
   "source": [
    "import pandas as pd\n",
    "from scipy import stats\n",
    "df = pd.read_csv('penambangan data.csv',sep=\";\")\n",
    "data = {\"stats\":['min','max','Mean','Standart Deviasi', 'Variasi','Skewnes',\n",
    "                 'Quartile 1','Quartile 2', 'Quartile 3', 'Median','Modus']}\n",
    "for i in df.columns:\n",
    "    data[i] = [df[i].min(),df[i].max(),df[i].mean(),round(df[i].std(),2), round(df[i].var(),2), round(df[i].skew(),2), \n",
    "               df[i].quantile(0.25),df[i].quantile(0.5),df[i].quantile(0.75), df[i].mean(), stats.mode(df[i]).mode[0]]\n",
    "hasil= pd.DataFrame(data)\n",
    "hasil.style.hide_index()"
   ]
  },
  {
   "cell_type": "code",
   "execution_count": null,
   "metadata": {},
   "outputs": [],
   "source": []
  },
  {
   "cell_type": "code",
   "execution_count": null,
   "metadata": {},
   "outputs": [],
   "source": []
  }
 ],
 "metadata": {
  "kernelspec": {
   "display_name": "Python 3",
   "language": "python",
   "name": "python3"
  },
  "language_info": {
   "codemirror_mode": {
    "name": "ipython",
    "version": 3
   },
   "file_extension": ".py",
   "mimetype": "text/x-python",
   "name": "python",
   "nbconvert_exporter": "python",
   "pygments_lexer": "ipython3",
   "version": "3.7.3"
  }
 },
 "nbformat": 4,
 "nbformat_minor": 2
}
